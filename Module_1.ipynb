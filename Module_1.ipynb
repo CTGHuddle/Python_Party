{
 "cells": [
  {
   "cell_type": "markdown",
   "id": "e92ce6af-cc08-48b0-93a8-c3f055ede50f",
   "metadata": {},
   "source": [
    "# 1. Printing and Strings"
   ]
  },
  {
   "cell_type": "code",
   "execution_count": 89,
   "id": "0338db78-a484-4747-98a4-70fe8778f841",
   "metadata": {},
   "outputs": [
    {
     "name": "stdout",
     "output_type": "stream",
     "text": [
      "Hello World!\n",
      "Hello\n",
      "World\n",
      "Hello World !\n",
      "Hello World !\n",
      "Hello World!\n"
     ]
    }
   ],
   "source": [
    "print('Hello World!')\n",
    "\n",
    "print('Hello')\n",
    "print(\"World\")\n",
    "\n",
    "print('Hello', 'World', \"!\")\n",
    "\n",
    "a = 'Hello'\n",
    "b = 'World'\n",
    "c = '!'\n",
    "\n",
    "print(a, b, c)\n",
    "print(a + ' ' + b + c)"
   ]
  },
  {
   "cell_type": "markdown",
   "id": "7bdffbcb-a931-4930-bd5a-439605554905",
   "metadata": {},
   "source": [
    "# 2. Math Operations"
   ]
  },
  {
   "cell_type": "code",
   "execution_count": 12,
   "id": "631c739c-752d-40de-96a5-6590ee5ab7bf",
   "metadata": {},
   "outputs": [
    {
     "name": "stdout",
     "output_type": "stream",
     "text": [
      "add 3\n",
      "add 3\n",
      "subtract -1\n",
      "multiply 2\n",
      "divide 0.5\n",
      "exponent 1\n"
     ]
    }
   ],
   "source": [
    "a = 1\n",
    "b = 2\n",
    "\n",
    "print('add', a + b)\n",
    "\n",
    "c = a + b\n",
    "\n",
    "print('add', c)\n",
    "print('subtract', a - b)\n",
    "print('multiply', a * b)\n",
    "print('divide', a / b)\n",
    "print('exponent', a**b)"
   ]
  },
  {
   "cell_type": "markdown",
   "id": "039857e1-62d1-443a-8a0d-3f28d2004645",
   "metadata": {},
   "source": [
    "# 3. Lists"
   ]
  },
  {
   "cell_type": "code",
   "execution_count": 33,
   "id": "f290c9c8-052c-4eed-8048-a46b47ca3372",
   "metadata": {},
   "outputs": [
    {
     "name": "stdout",
     "output_type": "stream",
     "text": [
      "[1, 2, 3, 4, 5]\n",
      "1\n",
      "2\n",
      "[2, 3]\n",
      "2\n",
      "5\n",
      "[1, 2, 3, 4, 5, 6]\n"
     ]
    }
   ],
   "source": [
    "x = [1, 2, 3, 4, 5]\n",
    "\n",
    "print(x)\n",
    "print(x[0])\n",
    "print(x[1])\n",
    "print(x[1:3])\n",
    "print(x[3] - x[1])\n",
    "print(len(x))\n",
    "\n",
    "x.append(6)\n",
    "\n",
    "print(x)"
   ]
  },
  {
   "cell_type": "markdown",
   "id": "83d1e69c-f003-4700-a445-2aacf8c4c857",
   "metadata": {},
   "source": [
    "# 4. Object Types"
   ]
  },
  {
   "cell_type": "code",
   "execution_count": 22,
   "id": "4f71dfbf-2a84-4737-8f78-242b20fc40e9",
   "metadata": {},
   "outputs": [
    {
     "name": "stdout",
     "output_type": "stream",
     "text": [
      "1 <class 'str'>\n",
      "1 <class 'int'>\n",
      "1.0 <class 'float'>\n",
      "1.0 <class 'str'>\n"
     ]
    }
   ],
   "source": [
    "s = \"1\"\n",
    "\n",
    "print(s, type(s))\n",
    "\n",
    "s = int(s)\n",
    "print(s, type(s))\n",
    "\n",
    "s = float(s)\n",
    "print(s, type(s))\n",
    "\n",
    "s = str(s)\n",
    "print(s, type(s))"
   ]
  },
  {
   "cell_type": "markdown",
   "id": "25ff7cd5-f6e2-4696-8b93-e2c396230d3d",
   "metadata": {},
   "source": [
    "# PROBLEM: Perform the following steps:\n",
    "1. Create new variables for each of the following values:\n",
    "    - a = 5\n",
    "    - b = -3\n",
    "    - c = 4.3\n",
    "    - d = 10.11\n",
    "2. Solve the equation: $y = (a * b + (c * d)^a)/(b - c / d)$\n",
    "3. Print the sentence \"This is my answer: _{y}_\""
   ]
  },
  {
   "cell_type": "code",
   "execution_count": 25,
   "id": "0ac56ce1-0eea-4bf0-b57f-4b63c223d73d",
   "metadata": {},
   "outputs": [
    {
     "name": "stdout",
     "output_type": "stream",
     "text": [
      "This is my answer: -45331143.860633105\n",
      "This is my answer: -45331143.86\n"
     ]
    }
   ],
   "source": [
    "a = 5\n",
    "b = -3\n",
    "c = 4.3\n",
    "d = 10.11\n",
    "\n",
    "y = (a * b + (c * d)**a) / (b - c/d)\n",
    "\n",
    "print('This is my answer:', y)\n",
    "print('This is my answer:', round(y, 2))"
   ]
  },
  {
   "cell_type": "markdown",
   "id": "0370d903-bab4-4225-a273-206753bbf159",
   "metadata": {},
   "source": [
    "# 5. For Loop "
   ]
  },
  {
   "cell_type": "code",
   "execution_count": 29,
   "id": "70c6d3ea-705d-4ae3-9168-60592e2a9143",
   "metadata": {},
   "outputs": [
    {
     "name": "stdout",
     "output_type": "stream",
     "text": [
      "1\n",
      "2\n",
      "3\n",
      "4\n",
      "5\n",
      "6\n",
      "7\n",
      "\n",
      "\n",
      "0 1\n",
      "1 2\n",
      "2 3\n",
      "3 4\n",
      "4 5\n",
      "5 6\n",
      "6 7\n"
     ]
    }
   ],
   "source": [
    "nums = [1, 2, 3, 4, 5, 6, 7]\n",
    "\n",
    "for x in nums:\n",
    "    print(x)\n",
    "    \n",
    "print('\\n')\n",
    "\n",
    "for x in range(len(nums)):\n",
    "    print(x, nums[x])"
   ]
  },
  {
   "cell_type": "markdown",
   "id": "cff736f7-06c3-44da-ac48-d148cb357d63",
   "metadata": {},
   "source": [
    "# 6. While Loop"
   ]
  },
  {
   "cell_type": "code",
   "execution_count": 31,
   "id": "f0cf82db-f48a-4709-b7bf-6d625d79a959",
   "metadata": {},
   "outputs": [
    {
     "name": "stdout",
     "output_type": "stream",
     "text": [
      "1\n",
      "2\n",
      "3\n",
      "4\n",
      "5\n",
      "6\n",
      "7\n"
     ]
    }
   ],
   "source": [
    "nums = [1, 2, 3, 4, 5, 6, 7]\n",
    "\n",
    "i = 0\n",
    "\n",
    "while i < len(nums):\n",
    "    print(nums[i])\n",
    "    i += 1"
   ]
  },
  {
   "cell_type": "markdown",
   "id": "97c178f6-4d59-47e8-973c-0711d674da53",
   "metadata": {},
   "source": [
    "# 7. Nested Loops"
   ]
  },
  {
   "cell_type": "code",
   "execution_count": 32,
   "id": "3bfb1bca-753a-44b0-a0d8-07f44c4e5d43",
   "metadata": {},
   "outputs": [
    {
     "name": "stdout",
     "output_type": "stream",
     "text": [
      "1 a\n",
      "1 b\n",
      "1 c\n",
      "1 d\n",
      "1 e\n",
      "2 a\n",
      "2 b\n",
      "2 c\n",
      "2 d\n",
      "2 e\n",
      "3 a\n",
      "3 b\n",
      "3 c\n",
      "3 d\n",
      "3 e\n",
      "4 a\n",
      "4 b\n",
      "4 c\n",
      "4 d\n",
      "4 e\n",
      "5 a\n",
      "5 b\n",
      "5 c\n",
      "5 d\n",
      "5 e\n"
     ]
    }
   ],
   "source": [
    "nums = [1, 2, 3, 4, 5]\n",
    "letters = ['a', 'b', 'c', 'd', 'e']\n",
    "\n",
    "for num in nums:\n",
    "    for letter in letters:\n",
    "        print(num, letter)"
   ]
  },
  {
   "cell_type": "markdown",
   "id": "b31c80e5-ffe8-4233-b2bc-c6f0a4070de8",
   "metadata": {},
   "source": [
    "# PROBLEM: Perform the Following Steps:\n",
    "1. Create a variable for the following lists\n",
    "    - a = [1,2,3,4,5]\n",
    "    - b = [5,4,3,2,1]\n",
    "2. Using a for loop, multiply each variable in _a_ by the variable in the same position in _b_. Store each result in a new list _c_\n",
    "3. Print the sentence \"This is my list: _{c}_\"\n",
    "4. Using a while loop, find the sum of the variables in _c_\n",
    "5. Print the sentence \"This is my sum: _{sum}_\""
   ]
  },
  {
   "cell_type": "code",
   "execution_count": 38,
   "id": "9dd4c8b6-1ce0-474a-aeb3-fd49dea26821",
   "metadata": {},
   "outputs": [
    {
     "name": "stdout",
     "output_type": "stream",
     "text": [
      "This is my list: [5, 8, 9, 8, 5]\n",
      "This is my sum: 35\n"
     ]
    }
   ],
   "source": [
    "a = [1,2,3,4,5]\n",
    "b = [5,4,3,2,1]\n",
    "\n",
    "c = []\n",
    "for x in range(len(a)):\n",
    "    temp = a[x] * b[x]\n",
    "    c.append(temp)\n",
    "    \n",
    "print(\"This is my list:\", c)\n",
    "\n",
    "i = 0\n",
    "sum = 0\n",
    "while i < len(c):\n",
    "    sum = sum+c[i]\n",
    "    i+=1\n",
    "    \n",
    "print(\"This is my sum:\", sum)"
   ]
  },
  {
   "cell_type": "markdown",
   "id": "d20ff531-be10-46d3-a863-00d5a789ce0d",
   "metadata": {},
   "source": [
    "# 8. If Statements"
   ]
  },
  {
   "cell_type": "code",
   "execution_count": 48,
   "id": "c4d360ab-66ac-4ced-8e7e-89f6b865a0dd",
   "metadata": {},
   "outputs": [
    {
     "name": "stdout",
     "output_type": "stream",
     "text": [
      "greater\n",
      "greater\n"
     ]
    }
   ],
   "source": [
    "a = 7\n",
    "b = 5\n",
    "\n",
    "if a == b:\n",
    "    print('equal')\n",
    "elif a > b:\n",
    "    print('greater')\n",
    "elif a < b:\n",
    "    print('less')\n",
    "else:\n",
    "    print('no idea')\n",
    "    \n",
    "    \n",
    "if a != b:\n",
    "    if a < b:\n",
    "        print('less')\n",
    "    else:\n",
    "        print('greater')"
   ]
  },
  {
   "cell_type": "markdown",
   "id": "e3cf5d3c-3f95-446b-9f1a-2dc076374382",
   "metadata": {},
   "source": [
    "# PROBLEM: Perform the Following Steps:\n",
    "1. Using a loop and if statements, print the following design:"
   ]
  },
  {
   "cell_type": "code",
   "execution_count": null,
   "id": "db46c7c5-f2e2-4edc-aed2-c036e23a1bb4",
   "metadata": {},
   "outputs": [],
   "source": [
    "----------------  ## 16 lines\n",
    "|::::::::::::::|\n",
    " |::::::::::::|\n",
    "  |::::::::::|\n",
    "   |::::::::|\n",
    "    |::::::|\n",
    "     |::::|\n",
    "      |::|\n",
    "       ||\n",
    "      |::|\n",
    "     |::::|\n",
    "    |::::::|\n",
    "   |::::::::|\n",
    "  |::::::::::|\n",
    " |::::::::::::|\n",
    "|::::::::::::::|\n",
    "----------------"
   ]
  },
  {
   "cell_type": "code",
   "execution_count": 63,
   "id": "e06ef0c0-9dd4-4df5-82a1-aec911b8ef1e",
   "metadata": {},
   "outputs": [
    {
     "name": "stdout",
     "output_type": "stream",
     "text": [
      "----------------\n",
      "|::::::::::::::|\n",
      " |::::::::::::|\n",
      "  |::::::::::|\n",
      "   |::::::::|\n",
      "    |::::::|\n",
      "     |::::|\n",
      "      |::|\n",
      "       ||\n",
      "      |::|\n",
      "     |::::|\n",
      "    |::::::|\n",
      "   |::::::::|\n",
      "  |::::::::::|\n",
      " |::::::::::::|\n",
      "|::::::::::::::|\n",
      "----------------\n"
     ]
    }
   ],
   "source": [
    "for x in range(17):\n",
    "    if x == 0 or x==16:\n",
    "        print('-'*16)\n",
    "    else:\n",
    "        if x <= 8:\n",
    "            spaces = x-1\n",
    "        else:\n",
    "            spaces = x-1 - 2*(x-8)\n",
    "        fill = 16 - (spaces*2 + 2)\n",
    "        print( ' '*spaces + \"|\" + ':'*fill + \"|\")"
   ]
  },
  {
   "cell_type": "markdown",
   "id": "01e8cc31-7ee4-44bd-bd09-2c8c12e1dcb7",
   "metadata": {},
   "source": [
    "# 9. Read File"
   ]
  },
  {
   "cell_type": "code",
   "execution_count": 77,
   "id": "e40e3c50-cbcb-40f5-8e6e-798a2513bb07",
   "metadata": {},
   "outputs": [
    {
     "name": "stdout",
     "output_type": "stream",
     "text": [
      "['1\\n', '4\\n', '5\\n', '1\\n', '1\\n', '5\\n', '4\\n', '2\\n', '1\\n', '6\\n', '3\\n', '2\\n', '3\\n', '6\\n', '8\\n', '4\\n', '1\\n', '3\\n', '9\\n', '1\\n', '7\\n', '3\\n', '3\\n', '8\\n', '9\\n', '0\\n', '5\\n', '1\\n', '4\\n', '6\\n', '7\\n', '9\\n', '1\\n', '6\\n', '8\\n', '0\\n', '5\\n', '9\\n', '3\\n', '9']\n",
      "\n",
      "\n",
      "[1, 4, 5, 1, 1, 5, 4, 2, 1, 6, 3, 2, 3, 6, 8, 4, 1, 3, 9, 1, 7, 3, 3, 8, 9, 0, 5, 1, 4, 6, 7, 9, 1, 6, 8, 0, 5, 9, 3, 9]\n"
     ]
    }
   ],
   "source": [
    "file = open('sample.txt')\n",
    "\n",
    "lines = file.readlines()\n",
    "print(lines)\n",
    "\n",
    "a = []\n",
    "\n",
    "for line in lines:\n",
    "    line = line.replace('\\n', '')\n",
    "    line = int(line)\n",
    "    a.append(line)\n",
    "    \n",
    "print('\\n')\n",
    "print(a)"
   ]
  },
  {
   "cell_type": "markdown",
   "id": "d7bce820-2b1e-49d0-8078-f4d8dfecacdc",
   "metadata": {},
   "source": [
    "# 10. String Manipulation"
   ]
  },
  {
   "cell_type": "code",
   "execution_count": 80,
   "id": "0571e6d4-27c0-4814-909e-e4b492b70e28",
   "metadata": {},
   "outputs": [
    {
     "name": "stdout",
     "output_type": "stream",
     "text": [
      "hello world !\n",
      "['hello', 'world', '!']\n",
      "hello\n",
      "world\n",
      "!\n"
     ]
    }
   ],
   "source": [
    "string = 'hello/world/!'\n",
    "\n",
    "string2 = string.replace('/', ' ')\n",
    "print(string2)\n",
    "\n",
    "string3 = string.split('/')\n",
    "print(string3)\n",
    "\n",
    "for s in string3:\n",
    "    print(s)"
   ]
  },
  {
   "cell_type": "markdown",
   "id": "e53c4f81-8f00-49c5-b92c-d54fbd157e84",
   "metadata": {},
   "source": [
    "# PROBLEM: Perform the Following Steps:\n",
    "1. Read in the file \"Module1.txt\"\n",
    "2. For each line extract the following information:\n",
    "    - trader name\n",
    "    - stock name\n",
    "    - number of stocks\n",
    "    - price of stock (ea)\n",
    "3. Determine which trader has the largest account (hint: number of stocks * price of stock)\n",
    "4. For the largest account, print \"_{trader name}_ owns _{account total}_ in _{stock name}_ stock\""
   ]
  },
  {
   "cell_type": "code",
   "execution_count": 87,
   "id": "7a21e681-ecf8-416b-9cd2-9040d2b5c207",
   "metadata": {},
   "outputs": [
    {
     "name": "stdout",
     "output_type": "stream",
     "text": [
      "Betty owns $812.0 in UAVS stock\n"
     ]
    }
   ],
   "source": [
    "file = open('Module1.txt')\n",
    "\n",
    "lines = file.readlines()\n",
    "\n",
    "highest_account = -1\n",
    "highest_trader = \"\"\n",
    "highest_stock = \"\"\n",
    "\n",
    "for line in lines:\n",
    "    line = line.replace('\\n', '')\n",
    "    name, stock, number, amount = line.split(', ')\n",
    "    number = int(number)\n",
    "    amount = float(amount.replace('$', ''))\n",
    "    account = number*amount\n",
    "    \n",
    "    if account > highest_account:\n",
    "        highest_account = round(account, 2)\n",
    "        highest_trader = name\n",
    "        highest_stock = stock\n",
    "        \n",
    "print(highest_trader + ' owns $' + str(highest_account) + ' in ' + highest_stock + ' stock')\n",
    "    "
   ]
  }
 ],
 "metadata": {
  "kernelspec": {
   "display_name": "Python 3 (ipykernel)",
   "language": "python",
   "name": "python3"
  },
  "language_info": {
   "codemirror_mode": {
    "name": "ipython",
    "version": 3
   },
   "file_extension": ".py",
   "mimetype": "text/x-python",
   "name": "python",
   "nbconvert_exporter": "python",
   "pygments_lexer": "ipython3",
   "version": "3.9.7"
  }
 },
 "nbformat": 4,
 "nbformat_minor": 5
}
